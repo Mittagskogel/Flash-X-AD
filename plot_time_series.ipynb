{
 "cells": [
  {
   "cell_type": "code",
   "execution_count": null,
   "id": "19380e95",
   "metadata": {},
   "outputs": [],
   "source": [
    "import yt\n",
    "import numpy as np\n",
    "import matplotlib.pyplot as plt\n",
    "from scipy.interpolate import griddata\n",
    "import itertools"
   ]
  },
  {
   "cell_type": "code",
   "execution_count": null,
   "id": "71687429",
   "metadata": {},
   "outputs": [
    {
     "name": "stderr",
     "output_type": "stream",
     "text": [
      "yt : [INFO     ] 2025-04-04 12:32:14,948 Parameters: cosmological_simulation   = 0\n"
     ]
    }
   ],
   "source": [
    "# Load the AMR dataset\n",
    "Ref = [yt.load(\"risingbubble_reference_re3500_restart/INS_Rising_Bubble_hdf5_plt_cnt_0031\"),\n",
    "       yt.load(\"risingbubble_reference_re3500_restart/INS_Rising_Bubble_hdf5_plt_cnt_0032\"),\n",
    "       yt.load(\"risingbubble_reference_re3500_restart/INS_Rising_Bubble_hdf5_plt_cnt_0035\"),\n",
    "       yt.load(\"risingbubble_reference_re3500_restart/INS_Rising_Bubble_hdf5_plt_cnt_0040\")]\n",
    "\n",
    "AdvRef0_4bit = [yt.load(\"autorun.risingbubble.advection.re3500.restart/object_ref0_12bit/INS_Rising_Bubble_hdf5_plt_cnt_0031\"),\n",
    "       yt.load(\"autorun.risingbubble.advection.re3500.restart/object_ref0_12bit/INS_Rising_Bubble_hdf5_plt_cnt_0032\"),\n",
    "       yt.load(\"autorun.risingbubble.advection.re3500.restart/object_ref0_12bit/INS_Rising_Bubble_hdf5_plt_cnt_0035\"),\n",
    "       yt.load(\"autorun.risingbubble.advection.re3500.restart/object_ref0_12bit/INS_Rising_Bubble_hdf5_plt_cnt_0040\")]\n",
    "\n",
    "AdvRef1_4bit = [yt.load(\"autorun.risingbubble.advection.re3500.restart/object_ref1_12bit/INS_Rising_Bubble_hdf5_plt_cnt_0031\"),\n",
    "       yt.load(\"autorun.risingbubble.advection.re3500.restart/object_ref1_12bit/INS_Rising_Bubble_hdf5_plt_cnt_0032\"),\n",
    "       yt.load(\"autorun.risingbubble.advection.re3500.restart/object_ref1_12bit/INS_Rising_Bubble_hdf5_plt_cnt_0035\"),\n",
    "       yt.load(\"autorun.risingbubble.advection.re3500.restart/object_ref1_12bit/INS_Rising_Bubble_hdf5_plt_cnt_0040\")]\n",
    "\n",
    "AdvRef2_4bit = [yt.load(\"autorun.risingbubble.advection.re3500.restart/object_ref2_12bit/INS_Rising_Bubble_hdf5_plt_cnt_0031\"),\n",
    "       yt.load(\"autorun.risingbubble.advection.re3500.restart/object_ref2_12bit/INS_Rising_Bubble_hdf5_plt_cnt_0032\"),\n",
    "       yt.load(\"autorun.risingbubble.advection.re3500.restart/object_ref2_12bit/INS_Rising_Bubble_hdf5_plt_cnt_0035\"),        \n",
    "       yt.load(\"autorun.risingbubble.advection.re3500.restart/object_ref2_12bit/INS_Rising_Bubble_hdf5_plt_cnt_0040\")]"
   ]
  },
  {
   "cell_type": "code",
   "execution_count": 3,
   "id": "4b5e32fa",
   "metadata": {},
   "outputs": [],
   "source": [
    "def dataset_contourf(ds, plot, field, color):\n",
    "    # Extract all data (all AMR levels)\n",
    "    ad = ds.all_data()\n",
    "    x = ad[\"x\"]\n",
    "    y = ad[\"y\"]\n",
    "    dfun = ad[field]\n",
    "\n",
    "    # Convert scattered AMR data to a structured grid\n",
    "    n_bins = 200  # Resolution for the interpolation\n",
    "    x_bins = np.linspace(x.min(), x.max(), n_bins)\n",
    "    y_bins = np.linspace(y.min(), y.max(), n_bins)\n",
    "    X, Y = np.meshgrid(x_bins, y_bins)\n",
    "\n",
    "    # Interpolate `dfun` to a uniform grid (preserving AMR levels)\n",
    "    Z = griddata((x, y), dfun, (X, Y), method='linear')\n",
    "    \n",
    "    plot.contourf(X, Y, Z, levels=[0,1000], colors=color, alpha=0.7)  # Single contour at dfun=0\n",
    "    #plot.contourf(X, Y, Z, alpha=0.5) \n",
    "    \n",
    "def dataset_contour(ds, plot, field, linestyle, linewidth, color):\n",
    "    # Extract all data (all AMR levels)\n",
    "    ad = ds.all_data()\n",
    "    x = ad[\"x\"]\n",
    "    y = ad[\"y\"]\n",
    "    dfun = ad[field]\n",
    "\n",
    "    # Convert scattered AMR data to a structured grid\n",
    "    n_bins = 200  # Resolution for the interpolation\n",
    "    x_bins = np.linspace(x.min(), x.max(), n_bins)\n",
    "    y_bins = np.linspace(y.min(), y.max(), n_bins)\n",
    "    X, Y = np.meshgrid(x_bins, y_bins)\n",
    "\n",
    "    # Interpolate `dfun` to a uniform grid (preserving AMR levels)\n",
    "    Z = griddata((x, y), dfun, (X, Y), method='linear')\n",
    "    \n",
    "    plot.contour(X, Y, Z, levels=[0], colors=color, linestyles=linestyle, linewidths=linewidth)  # Single contour at dfun=0"
   ]
  },
  {
   "cell_type": "code",
   "execution_count": null,
   "id": "0a6c530f",
   "metadata": {},
   "outputs": [],
   "source": [
    "plt.rc(\"font\", family=\"serif\", size=8, weight=\"bold\")\n",
    "plt.rc(\"axes\", labelweight=\"bold\", titleweight=\"bold\")\n",
    "plt.rc(\"text\", usetex=True)\n",
    "\n",
    "FileIndex = [*range(4)]\n",
    "TimeIndex = [3.1,3.2,3.5,4]\n",
    "Figure, PlotList = plt.subplots(1, len(FileIndex), figsize=(6,3), dpi=200)\n",
    "\n",
    "for Plot, Index in zip(PlotList,FileIndex):\n",
    "\n",
    "    Linestyles = itertools.cycle((\"-\",\"--\", \"-.\", \":\"))\n",
    "    #Colors = itertools.cycle((\"black\",\"tab:blue\",\"tab:orange\",\"tab:red\"))\n",
    "    Colors = itertools.cycle((\"black\",\"#dfaa57\",\"#e17084\",\"#36729f\",\"#26571d\",\"#5f147c\"))\n",
    "    Linewidths = itertools.cycle((0.5,1,0.5,2))\n",
    "\n",
    "    dataset_contour(Ref[Index], Plot, \"dfun\", next(Linestyles), next(Linewidths), next(Colors))\n",
    "    dataset_contourf(Ref[Index], Plot, \"dfun\", \"lightsteelblue\")\n",
    "    dataset_contour(AdvRef0_4bit[Index], Plot, \"dfun\", next(Linestyles), next(Linewidths), next(Colors))\n",
    "    dataset_contour(AdvRef1_4bit[Index], Plot, \"dfun\", next(Linestyles), next(Linewidths), next(Colors))  \n",
    "    dataset_contour(AdvRef2_4bit[Index], Plot, \"dfun\", next(Linestyles), next(Linewidths), next(Colors))\n",
    "    \n",
    "    time = TimeIndex[Index]\n",
    "    Plot.set_title(rf\"$t={round(time,1)}$\")\n",
    "        \n",
    "    Plot.set_aspect('equal')\n",
    "    #Plot.set_xlim([-1,1])\n",
    "    #Plot.set_ylim([-1,3])\n",
    "    \n",
    "    #Plot.set_xlim([-0.7,-0.25])\n",
    "    #Plot.set_xlim([0.25,0.7])\n",
    "    #Plot.set_ylim([.88,1.15])\n",
    "        \n",
    "    Plot.set_xlim([-0.76,-0.62])\n",
    "    Plot.set_ylim([0.09,0.53])\n",
    "    \n",
    "    #Plot.set_yticks([-1,0,1,2,3])\n",
    "    \n",
    "    if Index != 0:\n",
    "        Plot.xaxis.set_tick_params(labelbottom=False)\n",
    "        Plot.yaxis.set_tick_params(labelbottom=False)\n",
    "\n",
    "#pyplot.axis('equal')\n",
    "plt.tight_layout()\n",
    "plt.show()"
   ]
  }
 ],
 "metadata": {
  "kernelspec": {
   "display_name": "jupyter-venv",
   "language": "python",
   "name": "jupyter-venv"
  },
  "language_info": {
   "codemirror_mode": {
    "name": "ipython",
    "version": 3
   },
   "file_extension": ".py",
   "mimetype": "text/x-python",
   "name": "python",
   "nbconvert_exporter": "python",
   "pygments_lexer": "ipython3",
   "version": "3.13.2"
  }
 },
 "nbformat": 4,
 "nbformat_minor": 5
}
